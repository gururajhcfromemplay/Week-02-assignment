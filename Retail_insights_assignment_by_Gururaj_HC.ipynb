{
 "cells": [
  {
   "cell_type": "markdown",
   "id": "23a17a67",
   "metadata": {},
   "source": [
    "# Project Title: Retail Insights Engine\n"
   ]
  },
  {
   "cell_type": "markdown",
   "id": "bf8a9a3b",
   "metadata": {},
   "source": [
    "#### submitted by : Gururaj H C"
   ]
  },
  {
   "cell_type": "code",
   "execution_count": null,
   "id": "afb697d1",
   "metadata": {},
   "outputs": [],
   "source": []
  },
  {
   "cell_type": "markdown",
   "id": "76be9cb6",
   "metadata": {},
   "source": [
    "## Overview: \n",
    "You have been contracted by a mid-size retail business that has been collecting sales and inventory data over the last couple of years. \n",
    "\n",
    "They want to utilize this data to gain insights into their business.\n",
    "\n",
    "Your task is to build a Retail Insights Engine that will take in their historical data, process it, analyze it, and provide actionable insights.\n"
   ]
  },
  {
   "cell_type": "code",
   "execution_count": null,
   "id": "b889e1b9",
   "metadata": {},
   "outputs": [],
   "source": []
  },
  {
   "cell_type": "code",
   "execution_count": 1,
   "id": "b6756d10",
   "metadata": {},
   "outputs": [],
   "source": [
    "#importing the necessary libraries\n",
    "import pandas as pd\n",
    "import numpy as np\n",
    "from itertools import combinations\n",
    "from collections import Counter\n",
    "import warnings\n",
    "warnings.filterwarnings('ignore')"
   ]
  },
  {
   "cell_type": "code",
   "execution_count": 2,
   "id": "bb6bde85",
   "metadata": {},
   "outputs": [
    {
     "data": {
      "text/html": [
       "<div>\n",
       "<style scoped>\n",
       "    .dataframe tbody tr th:only-of-type {\n",
       "        vertical-align: middle;\n",
       "    }\n",
       "\n",
       "    .dataframe tbody tr th {\n",
       "        vertical-align: top;\n",
       "    }\n",
       "\n",
       "    .dataframe thead th {\n",
       "        text-align: right;\n",
       "    }\n",
       "</style>\n",
       "<table border=\"1\" class=\"dataframe\">\n",
       "  <thead>\n",
       "    <tr style=\"text-align: right;\">\n",
       "      <th></th>\n",
       "      <th>BillNo</th>\n",
       "      <th>Itemname</th>\n",
       "      <th>Quantity</th>\n",
       "      <th>Date</th>\n",
       "      <th>Price</th>\n",
       "      <th>CustomerID</th>\n",
       "    </tr>\n",
       "  </thead>\n",
       "  <tbody>\n",
       "    <tr>\n",
       "      <th>0</th>\n",
       "      <td>558638</td>\n",
       "      <td>ZINC METAL HEART DECORATION</td>\n",
       "      <td>12</td>\n",
       "      <td>2011-07-01 08:16:00</td>\n",
       "      <td>1.25</td>\n",
       "      <td>16317.0</td>\n",
       "    </tr>\n",
       "    <tr>\n",
       "      <th>1</th>\n",
       "      <td>558638</td>\n",
       "      <td>HANGING JAM JAR TLIGHT HOLDER</td>\n",
       "      <td>24</td>\n",
       "      <td>2011-07-01 08:16:00</td>\n",
       "      <td>0.85</td>\n",
       "      <td>16317.0</td>\n",
       "    </tr>\n",
       "    <tr>\n",
       "      <th>2</th>\n",
       "      <td>558638</td>\n",
       "      <td>LANTERN CREAM GAZEBO</td>\n",
       "      <td>3</td>\n",
       "      <td>2011-07-01 08:16:00</td>\n",
       "      <td>4.95</td>\n",
       "      <td>16317.0</td>\n",
       "    </tr>\n",
       "    <tr>\n",
       "      <th>3</th>\n",
       "      <td>558638</td>\n",
       "      <td>ZINC T-LIGHT HOLDER STAR LARGE</td>\n",
       "      <td>12</td>\n",
       "      <td>2011-07-01 08:16:00</td>\n",
       "      <td>0.95</td>\n",
       "      <td>16317.0</td>\n",
       "    </tr>\n",
       "    <tr>\n",
       "      <th>4</th>\n",
       "      <td>558638</td>\n",
       "      <td>FRENCH TOILET SIGN BLUE METAL</td>\n",
       "      <td>12</td>\n",
       "      <td>2011-07-01 08:16:00</td>\n",
       "      <td>1.25</td>\n",
       "      <td>16317.0</td>\n",
       "    </tr>\n",
       "  </tbody>\n",
       "</table>\n",
       "</div>"
      ],
      "text/plain": [
       "   BillNo                        Itemname  Quantity                Date  \\\n",
       "0  558638     ZINC METAL HEART DECORATION        12 2011-07-01 08:16:00   \n",
       "1  558638   HANGING JAM JAR TLIGHT HOLDER        24 2011-07-01 08:16:00   \n",
       "2  558638            LANTERN CREAM GAZEBO         3 2011-07-01 08:16:00   \n",
       "3  558638  ZINC T-LIGHT HOLDER STAR LARGE        12 2011-07-01 08:16:00   \n",
       "4  558638   FRENCH TOILET SIGN BLUE METAL        12 2011-07-01 08:16:00   \n",
       "\n",
       "   Price  CustomerID  \n",
       "0   1.25     16317.0  \n",
       "1   0.85     16317.0  \n",
       "2   4.95     16317.0  \n",
       "3   0.95     16317.0  \n",
       "4   1.25     16317.0  "
      ]
     },
     "execution_count": 2,
     "metadata": {},
     "output_type": "execute_result"
    }
   ],
   "source": [
    "#loading the dataset\n",
    "#pd.set_option('display.max_rows',None)\n",
    "df = pd.read_excel('C:\\MLCourse\\Coding_practice@Emplay\\Week-02\\Data.xlsx',parse_dates=True)\n",
    "df.head()"
   ]
  },
  {
   "cell_type": "code",
   "execution_count": 3,
   "id": "99050586",
   "metadata": {},
   "outputs": [
    {
     "data": {
      "text/html": [
       "<div>\n",
       "<style scoped>\n",
       "    .dataframe tbody tr th:only-of-type {\n",
       "        vertical-align: middle;\n",
       "    }\n",
       "\n",
       "    .dataframe tbody tr th {\n",
       "        vertical-align: top;\n",
       "    }\n",
       "\n",
       "    .dataframe thead th {\n",
       "        text-align: right;\n",
       "    }\n",
       "</style>\n",
       "<table border=\"1\" class=\"dataframe\">\n",
       "  <thead>\n",
       "    <tr style=\"text-align: right;\">\n",
       "      <th></th>\n",
       "      <th>Quantity</th>\n",
       "      <th>Price</th>\n",
       "      <th>CustomerID</th>\n",
       "    </tr>\n",
       "  </thead>\n",
       "  <tbody>\n",
       "    <tr>\n",
       "      <th>count</th>\n",
       "      <td>110813.000000</td>\n",
       "      <td>110813.000000</td>\n",
       "      <td>82340.000000</td>\n",
       "    </tr>\n",
       "    <tr>\n",
       "      <th>mean</th>\n",
       "      <td>10.142700</td>\n",
       "      <td>3.507632</td>\n",
       "      <td>15552.756789</td>\n",
       "    </tr>\n",
       "    <tr>\n",
       "      <th>std</th>\n",
       "      <td>44.150431</td>\n",
       "      <td>63.053221</td>\n",
       "      <td>1589.067844</td>\n",
       "    </tr>\n",
       "    <tr>\n",
       "      <th>min</th>\n",
       "      <td>-3667.000000</td>\n",
       "      <td>-11062.060000</td>\n",
       "      <td>12747.000000</td>\n",
       "    </tr>\n",
       "    <tr>\n",
       "      <th>25%</th>\n",
       "      <td>1.000000</td>\n",
       "      <td>1.250000</td>\n",
       "      <td>14191.000000</td>\n",
       "    </tr>\n",
       "    <tr>\n",
       "      <th>50%</th>\n",
       "      <td>4.000000</td>\n",
       "      <td>2.080000</td>\n",
       "      <td>15529.000000</td>\n",
       "    </tr>\n",
       "    <tr>\n",
       "      <th>75%</th>\n",
       "      <td>12.000000</td>\n",
       "      <td>4.130000</td>\n",
       "      <td>16910.000000</td>\n",
       "    </tr>\n",
       "    <tr>\n",
       "      <th>max</th>\n",
       "      <td>3186.000000</td>\n",
       "      <td>11062.060000</td>\n",
       "      <td>18283.000000</td>\n",
       "    </tr>\n",
       "  </tbody>\n",
       "</table>\n",
       "</div>"
      ],
      "text/plain": [
       "            Quantity          Price    CustomerID\n",
       "count  110813.000000  110813.000000  82340.000000\n",
       "mean       10.142700       3.507632  15552.756789\n",
       "std        44.150431      63.053221   1589.067844\n",
       "min     -3667.000000  -11062.060000  12747.000000\n",
       "25%         1.000000       1.250000  14191.000000\n",
       "50%         4.000000       2.080000  15529.000000\n",
       "75%        12.000000       4.130000  16910.000000\n",
       "max      3186.000000   11062.060000  18283.000000"
      ]
     },
     "execution_count": 3,
     "metadata": {},
     "output_type": "execute_result"
    }
   ],
   "source": [
    "#Checking for abnormal data\n",
    "df.describe()"
   ]
  },
  {
   "cell_type": "markdown",
   "id": "62b8ada9",
   "metadata": {},
   "source": [
    "#### Negative quantity means returned items and negative price means adjusted values. They need to be dropped "
   ]
  },
  {
   "cell_type": "code",
   "execution_count": 4,
   "id": "89c52b98",
   "metadata": {},
   "outputs": [
    {
     "data": {
      "text/plain": [
       "BillNo            0\n",
       "Itemname        336\n",
       "Quantity          0\n",
       "Date              0\n",
       "Price             0\n",
       "CustomerID    28473\n",
       "dtype: int64"
      ]
     },
     "execution_count": 4,
     "metadata": {},
     "output_type": "execute_result"
    }
   ],
   "source": [
    "#Checking for null values in each columns\n",
    "df.isnull().sum()"
   ]
  },
  {
   "cell_type": "code",
   "execution_count": 5,
   "id": "dddf4006",
   "metadata": {},
   "outputs": [
    {
     "data": {
      "text/plain": [
       "28809"
      ]
     },
     "execution_count": 5,
     "metadata": {},
     "output_type": "execute_result"
    }
   ],
   "source": [
    "#Checking for total null values in the df\n",
    "df.isnull().sum().sum()"
   ]
  },
  {
   "cell_type": "markdown",
   "id": "219ae3e2",
   "metadata": {},
   "source": [
    "More than 25% of the CustomerID is null. instead of dropping or imputing the values, to maintain sanctity of the data mentioning the missing values as 99999. So, that they can be easily identfied"
   ]
  },
  {
   "cell_type": "markdown",
   "id": "b8ea2a23",
   "metadata": {},
   "source": [
    "### Preprocessing"
   ]
  },
  {
   "cell_type": "code",
   "execution_count": 6,
   "id": "f79672ba",
   "metadata": {},
   "outputs": [],
   "source": [
    "# Fill missing values in 'Itemname' and 'CustomerID'\n",
    "df['Itemname'] = df['Itemname'].fillna('UNKNOWN ITEM')\n",
    "df['CustomerID'] = df['CustomerID'].fillna(99999)\n",
    "\n",
    "# Convert 'CustomerID' to integers\n",
    "df['CustomerID'] = df['CustomerID'].astype(int)\n",
    "\n",
    "# Drop rows with negative 'Quantity' or 'Price'\n",
    "df = df[(df['Quantity'] >= 0) & (df['Price'] >= 0)]\n",
    "\n",
    "# Remove rows where 'Itemname' contains one or more question marks\n",
    "df = df[~df['Itemname'].str.contains(r'\\?+')]\n",
    "\n",
    "# Extract year, month, day, hour, and day of the week from 'Date'\n",
    "df['Year'] = df['Date'].dt.year\n",
    "df['Month'] = df['Date'].dt.month\n",
    "df['Day'] = df['Date'].dt.day\n",
    "df['Hour'] = df['Date'].dt.hour\n",
    "df['day_of_week'] = df['Date'].dt.day_name()\n",
    "\n",
    "# Remove 'A' from 'BillNo' and convert to integers\n",
    "# Remove 'A' from 'BillNo' and convert to integers\n",
    "for i, row in df.iterrows():\n",
    "    if 'BillNo' in df.columns and len(str(row['BillNo'])) > 6:\n",
    "        df.at[i, 'BillNo'] = str(row['BillNo']).replace('A', '')\n",
    "\n",
    "df['BillNo'] = df['BillNo'].astype(int)"
   ]
  },
  {
   "cell_type": "code",
   "execution_count": 7,
   "id": "8febbad7",
   "metadata": {},
   "outputs": [
    {
     "data": {
      "text/html": [
       "<div>\n",
       "<style scoped>\n",
       "    .dataframe tbody tr th:only-of-type {\n",
       "        vertical-align: middle;\n",
       "    }\n",
       "\n",
       "    .dataframe tbody tr th {\n",
       "        vertical-align: top;\n",
       "    }\n",
       "\n",
       "    .dataframe thead th {\n",
       "        text-align: right;\n",
       "    }\n",
       "</style>\n",
       "<table border=\"1\" class=\"dataframe\">\n",
       "  <thead>\n",
       "    <tr style=\"text-align: right;\">\n",
       "      <th></th>\n",
       "      <th>BillNo</th>\n",
       "      <th>Itemname</th>\n",
       "      <th>Quantity</th>\n",
       "      <th>Date</th>\n",
       "      <th>Price</th>\n",
       "      <th>CustomerID</th>\n",
       "      <th>Year</th>\n",
       "      <th>Month</th>\n",
       "      <th>Day</th>\n",
       "      <th>Hour</th>\n",
       "      <th>day_of_week</th>\n",
       "    </tr>\n",
       "  </thead>\n",
       "  <tbody>\n",
       "    <tr>\n",
       "      <th>0</th>\n",
       "      <td>558638</td>\n",
       "      <td>ZINC METAL HEART DECORATION</td>\n",
       "      <td>12</td>\n",
       "      <td>2011-07-01 08:16:00</td>\n",
       "      <td>1.25</td>\n",
       "      <td>16317</td>\n",
       "      <td>2011</td>\n",
       "      <td>7</td>\n",
       "      <td>1</td>\n",
       "      <td>8</td>\n",
       "      <td>Friday</td>\n",
       "    </tr>\n",
       "    <tr>\n",
       "      <th>1</th>\n",
       "      <td>558638</td>\n",
       "      <td>HANGING JAM JAR TLIGHT HOLDER</td>\n",
       "      <td>24</td>\n",
       "      <td>2011-07-01 08:16:00</td>\n",
       "      <td>0.85</td>\n",
       "      <td>16317</td>\n",
       "      <td>2011</td>\n",
       "      <td>7</td>\n",
       "      <td>1</td>\n",
       "      <td>8</td>\n",
       "      <td>Friday</td>\n",
       "    </tr>\n",
       "    <tr>\n",
       "      <th>2</th>\n",
       "      <td>558638</td>\n",
       "      <td>LANTERN CREAM GAZEBO</td>\n",
       "      <td>3</td>\n",
       "      <td>2011-07-01 08:16:00</td>\n",
       "      <td>4.95</td>\n",
       "      <td>16317</td>\n",
       "      <td>2011</td>\n",
       "      <td>7</td>\n",
       "      <td>1</td>\n",
       "      <td>8</td>\n",
       "      <td>Friday</td>\n",
       "    </tr>\n",
       "    <tr>\n",
       "      <th>3</th>\n",
       "      <td>558638</td>\n",
       "      <td>ZINC T-LIGHT HOLDER STAR LARGE</td>\n",
       "      <td>12</td>\n",
       "      <td>2011-07-01 08:16:00</td>\n",
       "      <td>0.95</td>\n",
       "      <td>16317</td>\n",
       "      <td>2011</td>\n",
       "      <td>7</td>\n",
       "      <td>1</td>\n",
       "      <td>8</td>\n",
       "      <td>Friday</td>\n",
       "    </tr>\n",
       "    <tr>\n",
       "      <th>4</th>\n",
       "      <td>558638</td>\n",
       "      <td>FRENCH TOILET SIGN BLUE METAL</td>\n",
       "      <td>12</td>\n",
       "      <td>2011-07-01 08:16:00</td>\n",
       "      <td>1.25</td>\n",
       "      <td>16317</td>\n",
       "      <td>2011</td>\n",
       "      <td>7</td>\n",
       "      <td>1</td>\n",
       "      <td>8</td>\n",
       "      <td>Friday</td>\n",
       "    </tr>\n",
       "    <tr>\n",
       "      <th>...</th>\n",
       "      <td>...</td>\n",
       "      <td>...</td>\n",
       "      <td>...</td>\n",
       "      <td>...</td>\n",
       "      <td>...</td>\n",
       "      <td>...</td>\n",
       "      <td>...</td>\n",
       "      <td>...</td>\n",
       "      <td>...</td>\n",
       "      <td>...</td>\n",
       "      <td>...</td>\n",
       "    </tr>\n",
       "    <tr>\n",
       "      <th>110808</th>\n",
       "      <td>569202</td>\n",
       "      <td>PLASMATRONIC LAMP</td>\n",
       "      <td>1</td>\n",
       "      <td>2011-09-30 17:22:00</td>\n",
       "      <td>8.29</td>\n",
       "      <td>99999</td>\n",
       "      <td>2011</td>\n",
       "      <td>9</td>\n",
       "      <td>30</td>\n",
       "      <td>17</td>\n",
       "      <td>Friday</td>\n",
       "    </tr>\n",
       "    <tr>\n",
       "      <th>110809</th>\n",
       "      <td>569202</td>\n",
       "      <td>SET OF 2 ROUND TINS CAMEMBERT</td>\n",
       "      <td>1</td>\n",
       "      <td>2011-09-30 17:22:00</td>\n",
       "      <td>5.79</td>\n",
       "      <td>99999</td>\n",
       "      <td>2011</td>\n",
       "      <td>9</td>\n",
       "      <td>30</td>\n",
       "      <td>17</td>\n",
       "      <td>Friday</td>\n",
       "    </tr>\n",
       "    <tr>\n",
       "      <th>110810</th>\n",
       "      <td>569202</td>\n",
       "      <td>MINI JIGSAW DOLLY GIRL</td>\n",
       "      <td>2</td>\n",
       "      <td>2011-09-30 17:22:00</td>\n",
       "      <td>0.83</td>\n",
       "      <td>99999</td>\n",
       "      <td>2011</td>\n",
       "      <td>9</td>\n",
       "      <td>30</td>\n",
       "      <td>17</td>\n",
       "      <td>Friday</td>\n",
       "    </tr>\n",
       "    <tr>\n",
       "      <th>110811</th>\n",
       "      <td>569202</td>\n",
       "      <td>MINI JIGSAW CIRCUS PARADE</td>\n",
       "      <td>2</td>\n",
       "      <td>2011-09-30 17:22:00</td>\n",
       "      <td>0.83</td>\n",
       "      <td>99999</td>\n",
       "      <td>2011</td>\n",
       "      <td>9</td>\n",
       "      <td>30</td>\n",
       "      <td>17</td>\n",
       "      <td>Friday</td>\n",
       "    </tr>\n",
       "    <tr>\n",
       "      <th>110812</th>\n",
       "      <td>569202</td>\n",
       "      <td>BLUE DRAWER KNOB ACRYLIC EDWARDIAN</td>\n",
       "      <td>10</td>\n",
       "      <td>2011-09-30 17:22:00</td>\n",
       "      <td>1.25</td>\n",
       "      <td>99999</td>\n",
       "      <td>2011</td>\n",
       "      <td>9</td>\n",
       "      <td>30</td>\n",
       "      <td>17</td>\n",
       "      <td>Friday</td>\n",
       "    </tr>\n",
       "  </tbody>\n",
       "</table>\n",
       "<p>110544 rows × 11 columns</p>\n",
       "</div>"
      ],
      "text/plain": [
       "        BillNo                            Itemname  Quantity  \\\n",
       "0       558638         ZINC METAL HEART DECORATION        12   \n",
       "1       558638       HANGING JAM JAR TLIGHT HOLDER        24   \n",
       "2       558638                LANTERN CREAM GAZEBO         3   \n",
       "3       558638      ZINC T-LIGHT HOLDER STAR LARGE        12   \n",
       "4       558638       FRENCH TOILET SIGN BLUE METAL        12   \n",
       "...        ...                                 ...       ...   \n",
       "110808  569202                   PLASMATRONIC LAMP         1   \n",
       "110809  569202       SET OF 2 ROUND TINS CAMEMBERT         1   \n",
       "110810  569202              MINI JIGSAW DOLLY GIRL         2   \n",
       "110811  569202           MINI JIGSAW CIRCUS PARADE         2   \n",
       "110812  569202  BLUE DRAWER KNOB ACRYLIC EDWARDIAN        10   \n",
       "\n",
       "                      Date  Price  CustomerID  Year  Month  Day  Hour  \\\n",
       "0      2011-07-01 08:16:00   1.25       16317  2011      7    1     8   \n",
       "1      2011-07-01 08:16:00   0.85       16317  2011      7    1     8   \n",
       "2      2011-07-01 08:16:00   4.95       16317  2011      7    1     8   \n",
       "3      2011-07-01 08:16:00   0.95       16317  2011      7    1     8   \n",
       "4      2011-07-01 08:16:00   1.25       16317  2011      7    1     8   \n",
       "...                    ...    ...         ...   ...    ...  ...   ...   \n",
       "110808 2011-09-30 17:22:00   8.29       99999  2011      9   30    17   \n",
       "110809 2011-09-30 17:22:00   5.79       99999  2011      9   30    17   \n",
       "110810 2011-09-30 17:22:00   0.83       99999  2011      9   30    17   \n",
       "110811 2011-09-30 17:22:00   0.83       99999  2011      9   30    17   \n",
       "110812 2011-09-30 17:22:00   1.25       99999  2011      9   30    17   \n",
       "\n",
       "       day_of_week  \n",
       "0           Friday  \n",
       "1           Friday  \n",
       "2           Friday  \n",
       "3           Friday  \n",
       "4           Friday  \n",
       "...            ...  \n",
       "110808      Friday  \n",
       "110809      Friday  \n",
       "110810      Friday  \n",
       "110811      Friday  \n",
       "110812      Friday  \n",
       "\n",
       "[110544 rows x 11 columns]"
      ]
     },
     "execution_count": 7,
     "metadata": {},
     "output_type": "execute_result"
    }
   ],
   "source": [
    "df"
   ]
  },
  {
   "cell_type": "markdown",
   "id": "1f4df70b",
   "metadata": {},
   "source": [
    "## Business Analysis"
   ]
  },
  {
   "cell_type": "markdown",
   "id": "db2beb41",
   "metadata": {},
   "source": [
    "### Which product are the top performers?"
   ]
  },
  {
   "cell_type": "code",
   "execution_count": 8,
   "id": "cf633e58",
   "metadata": {},
   "outputs": [
    {
     "name": "stdout",
     "output_type": "stream",
     "text": [
      "Displaying the top 5 best selling products\n"
     ]
    },
    {
     "data": {
      "text/plain": [
       "Itemname\n",
       "JUMBO BAG RED RETROSPOT               11857\n",
       "ASSORTED COLOUR BIRD ORNAMENT         10942\n",
       "POPCORN HOLDER                        10604\n",
       "WORLD WAR 2 GLIDERS ASSTD DESIGNS      7714\n",
       "WHITE HANGING HEART T-LIGHT HOLDER     7304\n",
       "Name: Quantity, dtype: int64"
      ]
     },
     "execution_count": 8,
     "metadata": {},
     "output_type": "execute_result"
    }
   ],
   "source": [
    "print('Displaying the top 5 best selling products')\n",
    "df.groupby('Itemname')['Quantity'].sum().sort_values(ascending=False).head(5)"
   ]
  },
  {
   "cell_type": "markdown",
   "id": "46629391",
   "metadata": {},
   "source": [
    "### Which products are lagging?\n"
   ]
  },
  {
   "cell_type": "code",
   "execution_count": 9,
   "id": "c294dc18",
   "metadata": {},
   "outputs": [
    {
     "name": "stdout",
     "output_type": "stream",
     "text": [
      "Displaying the top 5 worst selling products\n"
     ]
    },
    {
     "data": {
      "text/plain": [
       "Itemname\n",
       "FELT FARM ANIMAL RABBIT                1\n",
       "GOLD/AMBER DROP EARRINGS W LEAF        1\n",
       "SET 10 CARDS ROBIN WATERPUMP  17096    1\n",
       "LADYBIRD + BEE RAFFIA FOOD COVER       1\n",
       "SET 10 CARDS SNOWY SNOWDROPS  17100    1\n",
       "Name: Quantity, dtype: int64"
      ]
     },
     "execution_count": 9,
     "metadata": {},
     "output_type": "execute_result"
    }
   ],
   "source": [
    "print('Displaying the top 5 worst selling products')\n",
    "df.groupby('Itemname')['Quantity'].sum().sort_values().head(5)"
   ]
  },
  {
   "cell_type": "markdown",
   "id": "a0d04b9b",
   "metadata": {},
   "source": [
    "### The business has a hunch that certain products sell better at specific times of the year or maybe even days of the week. Using the data, validate this hunch.\n"
   ]
  },
  {
   "cell_type": "code",
   "execution_count": 10,
   "id": "ca3dc9c9",
   "metadata": {},
   "outputs": [
    {
     "data": {
      "text/plain": [
       "Itemname                           Month\n",
       "ASSORTED COLOUR BIRD ORNAMENT      8        6497\n",
       "POPCORN HOLDER                     8        5135\n",
       "GIRLS ALPHABET IRON ON PATCHES     7        5019\n",
       "JUMBO BAG RED RETROSPOT            8        4748\n",
       "                                   9        4061\n",
       "                                            ... \n",
       "SET/3 CHRISTMAS DECOUPAGE CANDLES  7           1\n",
       "COSY SLIPPER SHOES LARGE GREEN     7           1\n",
       "4 PINK FLOCK CHRISTMAS BALLS       9           1\n",
       "4 PURPLE FLOCK DINNER CANDLES      8           1\n",
       "NUMBER TILE COTTAGE GARDEN 7       9           1\n",
       "Name: Quantity, Length: 7864, dtype: int64"
      ]
     },
     "execution_count": 10,
     "metadata": {},
     "output_type": "execute_result"
    }
   ],
   "source": [
    "df.groupby(['Itemname','Month'])['Quantity'].sum().sort_values(ascending=False)"
   ]
  },
  {
   "cell_type": "code",
   "execution_count": 11,
   "id": "81be1e47",
   "metadata": {},
   "outputs": [
    {
     "data": {
      "text/plain": [
       "Month\n",
       "8    6497\n",
       "9    2712\n",
       "7    1733\n",
       "Name: Quantity, dtype: int64"
      ]
     },
     "execution_count": 11,
     "metadata": {},
     "output_type": "execute_result"
    }
   ],
   "source": [
    "df_item = df[df['Itemname'] == 'ASSORTED COLOUR BIRD ORNAMENT']\n",
    "df_item.groupby('Month')['Quantity'].sum().sort_values(ascending=False)"
   ]
  },
  {
   "cell_type": "code",
   "execution_count": 12,
   "id": "d7d488ab",
   "metadata": {},
   "outputs": [
    {
     "data": {
      "text/plain": [
       "day_of_week\n",
       "Thursday     6258\n",
       "Monday       1156\n",
       "Tuesday       912\n",
       "Wednesday     910\n",
       "Friday        882\n",
       "Sunday        824\n",
       "Name: Quantity, dtype: int64"
      ]
     },
     "execution_count": 12,
     "metadata": {},
     "output_type": "execute_result"
    }
   ],
   "source": [
    "df_item = df[df['Itemname'] == 'ASSORTED COLOUR BIRD ORNAMENT']\n",
    "df_item.groupby('day_of_week')['Quantity'].sum().sort_values(ascending=False)"
   ]
  },
  {
   "cell_type": "markdown",
   "id": "82eb1c2a",
   "metadata": {},
   "source": [
    "#### The hunch is true. For instance : ASSORTED COLOUR BIRD ORNAMENT,  sold the most in August and on thursdays"
   ]
  },
  {
   "cell_type": "code",
   "execution_count": null,
   "id": "f582aea4",
   "metadata": {},
   "outputs": [],
   "source": []
  },
  {
   "cell_type": "markdown",
   "id": "b4749e11",
   "metadata": {},
   "source": [
    "### Are there products that were once best-sellers but have seen a decrease in sales recently?"
   ]
  },
  {
   "cell_type": "code",
   "execution_count": 13,
   "id": "06785056",
   "metadata": {},
   "outputs": [
    {
     "data": {
      "text/plain": [
       "Itemname                           Month\n",
       "ASSORTED COLOUR BIRD ORNAMENT      8        6497\n",
       "POPCORN HOLDER                     8        5135\n",
       "GIRLS ALPHABET IRON ON PATCHES     7        5019\n",
       "JUMBO BAG RED RETROSPOT            8        4748\n",
       "                                   9        4061\n",
       "                                            ... \n",
       "SET/3 CHRISTMAS DECOUPAGE CANDLES  7           1\n",
       "COSY SLIPPER SHOES LARGE GREEN     7           1\n",
       "4 PINK FLOCK CHRISTMAS BALLS       9           1\n",
       "4 PURPLE FLOCK DINNER CANDLES      8           1\n",
       "NUMBER TILE COTTAGE GARDEN 7       9           1\n",
       "Name: Quantity, Length: 7864, dtype: int64"
      ]
     },
     "execution_count": 13,
     "metadata": {},
     "output_type": "execute_result"
    }
   ],
   "source": [
    "df.groupby(['Itemname','Month'])['Quantity'].sum().sort_values(ascending=False)"
   ]
  },
  {
   "cell_type": "code",
   "execution_count": 14,
   "id": "5e765640",
   "metadata": {},
   "outputs": [
    {
     "data": {
      "text/plain": [
       "Month\n",
       "7    5019\n",
       "8     179\n",
       "9    1550\n",
       "Name: Quantity, dtype: int64"
      ]
     },
     "execution_count": 14,
     "metadata": {},
     "output_type": "execute_result"
    }
   ],
   "source": [
    "df_3 = df[df['Itemname'] == 'GIRLS ALPHABET IRON ON PATCHES']\n",
    "df_3.groupby('Month')['Quantity'].sum()"
   ]
  },
  {
   "cell_type": "markdown",
   "id": "53b8bef2",
   "metadata": {},
   "source": [
    "####  The product GIRLS ALPHABET IRON ON PATCHES was sold 5k in July and saw decline in August and Sepetember"
   ]
  },
  {
   "cell_type": "code",
   "execution_count": null,
   "id": "66618422",
   "metadata": {},
   "outputs": [],
   "source": []
  },
  {
   "cell_type": "markdown",
   "id": "25669898",
   "metadata": {},
   "source": [
    "### Identify the most common products that are bought together. Can you find any product pairs or combinations?"
   ]
  },
  {
   "cell_type": "code",
   "execution_count": 15,
   "id": "45a6a21c",
   "metadata": {},
   "outputs": [
    {
     "data": {
      "text/html": [
       "<div>\n",
       "<style scoped>\n",
       "    .dataframe tbody tr th:only-of-type {\n",
       "        vertical-align: middle;\n",
       "    }\n",
       "\n",
       "    .dataframe tbody tr th {\n",
       "        vertical-align: top;\n",
       "    }\n",
       "\n",
       "    .dataframe thead th {\n",
       "        text-align: right;\n",
       "    }\n",
       "</style>\n",
       "<table border=\"1\" class=\"dataframe\">\n",
       "  <thead>\n",
       "    <tr style=\"text-align: right;\">\n",
       "      <th></th>\n",
       "      <th>Product Pair</th>\n",
       "      <th>Frequency</th>\n",
       "    </tr>\n",
       "  </thead>\n",
       "  <tbody>\n",
       "    <tr>\n",
       "      <th>0</th>\n",
       "      <td>(JUMBO BAG APPLES, JUMBO BAG RED RETROSPOT)</td>\n",
       "      <td>147</td>\n",
       "    </tr>\n",
       "    <tr>\n",
       "      <th>1</th>\n",
       "      <td>(JUMBO BAG PINK POLKADOT, JUMBO BAG RED RETROS...</td>\n",
       "      <td>142</td>\n",
       "    </tr>\n",
       "    <tr>\n",
       "      <th>2</th>\n",
       "      <td>(LUNCH BAG RED RETROSPOT, LUNCH BAG  BLACK SKU...</td>\n",
       "      <td>128</td>\n",
       "    </tr>\n",
       "    <tr>\n",
       "      <th>3</th>\n",
       "      <td>(JUMBO STORAGE BAG SUKI, JUMBO BAG RED RETROSPOT)</td>\n",
       "      <td>127</td>\n",
       "    </tr>\n",
       "    <tr>\n",
       "      <th>4</th>\n",
       "      <td>(LUNCH BAG SUKI DESIGN, LUNCH BAG APPLE DESIGN)</td>\n",
       "      <td>123</td>\n",
       "    </tr>\n",
       "    <tr>\n",
       "      <th>5</th>\n",
       "      <td>(JUMBO SHOPPER VINTAGE RED PAISLEY, JUMBO BAG ...</td>\n",
       "      <td>120</td>\n",
       "    </tr>\n",
       "    <tr>\n",
       "      <th>6</th>\n",
       "      <td>(SPOTTY BUNTING, PARTY BUNTING)</td>\n",
       "      <td>119</td>\n",
       "    </tr>\n",
       "    <tr>\n",
       "      <th>7</th>\n",
       "      <td>(LUNCH BAG SPACEBOY DESIGN, LUNCH BAG SUKI DES...</td>\n",
       "      <td>117</td>\n",
       "    </tr>\n",
       "    <tr>\n",
       "      <th>8</th>\n",
       "      <td>(LUNCH BAG RED RETROSPOT, LUNCH BAG SUKI DESIGN)</td>\n",
       "      <td>117</td>\n",
       "    </tr>\n",
       "    <tr>\n",
       "      <th>9</th>\n",
       "      <td>(JUMBO STORAGE BAG SUKI, JUMBO BAG APPLES)</td>\n",
       "      <td>117</td>\n",
       "    </tr>\n",
       "    <tr>\n",
       "      <th>10</th>\n",
       "      <td>(LUNCH BAG RED RETROSPOT, LUNCH BAG PINK POLKA...</td>\n",
       "      <td>116</td>\n",
       "    </tr>\n",
       "    <tr>\n",
       "      <th>11</th>\n",
       "      <td>(LUNCH BAG  BLACK SKULL., LUNCH BAG SUKI DESIGN)</td>\n",
       "      <td>114</td>\n",
       "    </tr>\n",
       "    <tr>\n",
       "      <th>12</th>\n",
       "      <td>(LUNCH BAG RED RETROSPOT, LUNCH BAG APPLE DESIGN)</td>\n",
       "      <td>114</td>\n",
       "    </tr>\n",
       "    <tr>\n",
       "      <th>13</th>\n",
       "      <td>(LUNCH BAG SPACEBOY DESIGN, LUNCH BAG APPLE DE...</td>\n",
       "      <td>111</td>\n",
       "    </tr>\n",
       "    <tr>\n",
       "      <th>14</th>\n",
       "      <td>(LUNCH BAG RED RETROSPOT, LUNCH BAG CARS BLUE)</td>\n",
       "      <td>110</td>\n",
       "    </tr>\n",
       "    <tr>\n",
       "      <th>15</th>\n",
       "      <td>(LUNCH BAG  BLACK SKULL., LUNCH BAG PINK POLKA...</td>\n",
       "      <td>110</td>\n",
       "    </tr>\n",
       "    <tr>\n",
       "      <th>16</th>\n",
       "      <td>(JUMBO BAG PINK POLKADOT, JUMBO BAG APPLES)</td>\n",
       "      <td>109</td>\n",
       "    </tr>\n",
       "    <tr>\n",
       "      <th>17</th>\n",
       "      <td>(JUMBO BAG APPLES, JUMBO BAG PEARS)</td>\n",
       "      <td>108</td>\n",
       "    </tr>\n",
       "    <tr>\n",
       "      <th>18</th>\n",
       "      <td>(LUNCH BAG PINK POLKADOT, LUNCH BAG APPLE DESIGN)</td>\n",
       "      <td>107</td>\n",
       "    </tr>\n",
       "    <tr>\n",
       "      <th>19</th>\n",
       "      <td>(LUNCH BAG  BLACK SKULL., LUNCH BAG CARS BLUE)</td>\n",
       "      <td>107</td>\n",
       "    </tr>\n",
       "  </tbody>\n",
       "</table>\n",
       "</div>"
      ],
      "text/plain": [
       "                                         Product Pair  Frequency\n",
       "0         (JUMBO BAG APPLES, JUMBO BAG RED RETROSPOT)        147\n",
       "1   (JUMBO BAG PINK POLKADOT, JUMBO BAG RED RETROS...        142\n",
       "2   (LUNCH BAG RED RETROSPOT, LUNCH BAG  BLACK SKU...        128\n",
       "3   (JUMBO STORAGE BAG SUKI, JUMBO BAG RED RETROSPOT)        127\n",
       "4     (LUNCH BAG SUKI DESIGN, LUNCH BAG APPLE DESIGN)        123\n",
       "5   (JUMBO SHOPPER VINTAGE RED PAISLEY, JUMBO BAG ...        120\n",
       "6                     (SPOTTY BUNTING, PARTY BUNTING)        119\n",
       "7   (LUNCH BAG SPACEBOY DESIGN, LUNCH BAG SUKI DES...        117\n",
       "8    (LUNCH BAG RED RETROSPOT, LUNCH BAG SUKI DESIGN)        117\n",
       "9          (JUMBO STORAGE BAG SUKI, JUMBO BAG APPLES)        117\n",
       "10  (LUNCH BAG RED RETROSPOT, LUNCH BAG PINK POLKA...        116\n",
       "11   (LUNCH BAG  BLACK SKULL., LUNCH BAG SUKI DESIGN)        114\n",
       "12  (LUNCH BAG RED RETROSPOT, LUNCH BAG APPLE DESIGN)        114\n",
       "13  (LUNCH BAG SPACEBOY DESIGN, LUNCH BAG APPLE DE...        111\n",
       "14     (LUNCH BAG RED RETROSPOT, LUNCH BAG CARS BLUE)        110\n",
       "15  (LUNCH BAG  BLACK SKULL., LUNCH BAG PINK POLKA...        110\n",
       "16        (JUMBO BAG PINK POLKADOT, JUMBO BAG APPLES)        109\n",
       "17                (JUMBO BAG APPLES, JUMBO BAG PEARS)        108\n",
       "18  (LUNCH BAG PINK POLKADOT, LUNCH BAG APPLE DESIGN)        107\n",
       "19     (LUNCH BAG  BLACK SKULL., LUNCH BAG CARS BLUE)        107"
      ]
     },
     "execution_count": 15,
     "metadata": {},
     "output_type": "execute_result"
    }
   ],
   "source": [
    "df10 = df[['BillNo', 'Itemname', 'CustomerID']]\n",
    "grouped = df10.groupby(['BillNo', 'CustomerID'])['Itemname'].apply(list).reset_index()\n",
    "product_pairs = []\n",
    "for items in grouped['Itemname']:\n",
    "    item_combinations = list(combinations(items, 2))\n",
    "    product_pairs.extend(item_combinations)\n",
    "product_pair_counts = Counter(product_pairs)\n",
    "most_common_pairs = product_pair_counts.most_common(20)  \n",
    "result_df = pd.DataFrame(most_common_pairs, columns=['Product Pair', 'Frequency'])\n",
    "result_df"
   ]
  },
  {
   "cell_type": "markdown",
   "id": "4c1b9e32",
   "metadata": {},
   "source": [
    "### Which are the top 10 most frequent product baskets?\n",
    " "
   ]
  },
  {
   "cell_type": "code",
   "execution_count": 16,
   "id": "a3d5aa36",
   "metadata": {},
   "outputs": [
    {
     "data": {
      "text/html": [
       "<div>\n",
       "<style scoped>\n",
       "    .dataframe tbody tr th:only-of-type {\n",
       "        vertical-align: middle;\n",
       "    }\n",
       "\n",
       "    .dataframe tbody tr th {\n",
       "        vertical-align: top;\n",
       "    }\n",
       "\n",
       "    .dataframe thead th {\n",
       "        text-align: right;\n",
       "    }\n",
       "</style>\n",
       "<table border=\"1\" class=\"dataframe\">\n",
       "  <thead>\n",
       "    <tr style=\"text-align: right;\">\n",
       "      <th></th>\n",
       "      <th>Product Pair</th>\n",
       "      <th>Frequency</th>\n",
       "    </tr>\n",
       "  </thead>\n",
       "  <tbody>\n",
       "    <tr>\n",
       "      <th>0</th>\n",
       "      <td>(JUMBO BAG APPLES, JUMBO BAG RED RETROSPOT)</td>\n",
       "      <td>147</td>\n",
       "    </tr>\n",
       "    <tr>\n",
       "      <th>1</th>\n",
       "      <td>(JUMBO BAG PINK POLKADOT, JUMBO BAG RED RETROS...</td>\n",
       "      <td>142</td>\n",
       "    </tr>\n",
       "    <tr>\n",
       "      <th>2</th>\n",
       "      <td>(LUNCH BAG RED RETROSPOT, LUNCH BAG  BLACK SKU...</td>\n",
       "      <td>128</td>\n",
       "    </tr>\n",
       "    <tr>\n",
       "      <th>3</th>\n",
       "      <td>(JUMBO STORAGE BAG SUKI, JUMBO BAG RED RETROSPOT)</td>\n",
       "      <td>127</td>\n",
       "    </tr>\n",
       "    <tr>\n",
       "      <th>4</th>\n",
       "      <td>(LUNCH BAG SUKI DESIGN, LUNCH BAG APPLE DESIGN)</td>\n",
       "      <td>123</td>\n",
       "    </tr>\n",
       "    <tr>\n",
       "      <th>5</th>\n",
       "      <td>(JUMBO SHOPPER VINTAGE RED PAISLEY, JUMBO BAG ...</td>\n",
       "      <td>120</td>\n",
       "    </tr>\n",
       "    <tr>\n",
       "      <th>6</th>\n",
       "      <td>(SPOTTY BUNTING, PARTY BUNTING)</td>\n",
       "      <td>119</td>\n",
       "    </tr>\n",
       "    <tr>\n",
       "      <th>7</th>\n",
       "      <td>(LUNCH BAG SPACEBOY DESIGN, LUNCH BAG SUKI DES...</td>\n",
       "      <td>117</td>\n",
       "    </tr>\n",
       "    <tr>\n",
       "      <th>8</th>\n",
       "      <td>(LUNCH BAG RED RETROSPOT, LUNCH BAG SUKI DESIGN)</td>\n",
       "      <td>117</td>\n",
       "    </tr>\n",
       "    <tr>\n",
       "      <th>9</th>\n",
       "      <td>(JUMBO STORAGE BAG SUKI, JUMBO BAG APPLES)</td>\n",
       "      <td>117</td>\n",
       "    </tr>\n",
       "  </tbody>\n",
       "</table>\n",
       "</div>"
      ],
      "text/plain": [
       "                                        Product Pair  Frequency\n",
       "0        (JUMBO BAG APPLES, JUMBO BAG RED RETROSPOT)        147\n",
       "1  (JUMBO BAG PINK POLKADOT, JUMBO BAG RED RETROS...        142\n",
       "2  (LUNCH BAG RED RETROSPOT, LUNCH BAG  BLACK SKU...        128\n",
       "3  (JUMBO STORAGE BAG SUKI, JUMBO BAG RED RETROSPOT)        127\n",
       "4    (LUNCH BAG SUKI DESIGN, LUNCH BAG APPLE DESIGN)        123\n",
       "5  (JUMBO SHOPPER VINTAGE RED PAISLEY, JUMBO BAG ...        120\n",
       "6                    (SPOTTY BUNTING, PARTY BUNTING)        119\n",
       "7  (LUNCH BAG SPACEBOY DESIGN, LUNCH BAG SUKI DES...        117\n",
       "8   (LUNCH BAG RED RETROSPOT, LUNCH BAG SUKI DESIGN)        117\n",
       "9         (JUMBO STORAGE BAG SUKI, JUMBO BAG APPLES)        117"
      ]
     },
     "execution_count": 16,
     "metadata": {},
     "output_type": "execute_result"
    }
   ],
   "source": [
    "result_df.head(10)"
   ]
  },
  {
   "cell_type": "markdown",
   "id": "560d7470",
   "metadata": {},
   "source": [
    "### Identify different baskets of goods sold, which are the top 10 baskets? "
   ]
  },
  {
   "cell_type": "code",
   "execution_count": 17,
   "id": "ab0cbb2a",
   "metadata": {},
   "outputs": [
    {
     "name": "stdout",
     "output_type": "stream",
     "text": [
      "      BillNo  CustomerID                                           Itemname\n",
      "188   559055       99999  [SWEETIES  STICKERS, HOME BUILDING BLOCK WORD,...\n",
      "187   559052       99999  [3D SHEET OF DOG STICKERS, PACK 6 HEART/ICE-CR...\n",
      "893   560772       99999  [RED HEART LUGGAGE TAG, DOORMAT RED RETROSPOT,...\n",
      "779   560434       99999  [GARDEN PATH JOURNAL, DENIM PATCH PURSE PINK B...\n",
      "972   560926       99999  [PAINTED METAL PEARS ASSORTED, NO JUNK MAIL ME...\n",
      "499   559816       99999  [COLOURING PENCILS BROWN TUBE, ASSTD DESIGN RA...\n",
      "3728  567656       14096  [PINK DIAMANTE PEN IN GIFT BOX, CRYSTAL SEA HO...\n",
      "3560  567183       14769  [WOOD BLACK BOARD ANT WHITE FINISH, STOOL HOME...\n",
      "662   560225       99999  [JUMBO  BAG BAROQUE BLACK WHITE, WHITE HANGING...\n",
      "456   559693       99999  [LUNCH BAG RED RETROSPOT, GOLD MINI TAPE MEASU...\n"
     ]
    }
   ],
   "source": [
    "df11 = df[['BillNo', 'Itemname', 'CustomerID']]\n",
    "baskets = df11.groupby(['BillNo', 'CustomerID'])['Itemname'].unique().reset_index()\n",
    "sorted_baskets = baskets.sort_values(by='Itemname', key=lambda x: x.str.len(), ascending=False)\n",
    "top_10_baskets = sorted_baskets.head(10)\n",
    "print(top_10_baskets)"
   ]
  },
  {
   "cell_type": "markdown",
   "id": "2e62633f",
   "metadata": {},
   "source": [
    "### How does basket size vary with the day of the week or time of the month?"
   ]
  },
  {
   "cell_type": "code",
   "execution_count": 18,
   "id": "a49ebe20",
   "metadata": {},
   "outputs": [
    {
     "name": "stdout",
     "output_type": "stream",
     "text": [
      "Basket size during the day of the week\n"
     ]
    },
    {
     "data": {
      "text/plain": [
       "day_of_week\n",
       "Thursday     285026\n",
       "Tuesday      224759\n",
       "Wednesday    207829\n",
       "Friday       163049\n",
       "Monday       156731\n",
       "Sunday       121340\n",
       "Name: Quantity, dtype: int64"
      ]
     },
     "execution_count": 18,
     "metadata": {},
     "output_type": "execute_result"
    }
   ],
   "source": [
    "print('Basket size during the day of the week')\n",
    "df.groupby(['day_of_week'])['Quantity'].sum().sort_values(ascending=False)"
   ]
  },
  {
   "cell_type": "code",
   "execution_count": 19,
   "id": "df3e2feb",
   "metadata": {},
   "outputs": [
    {
     "name": "stdout",
     "output_type": "stream",
     "text": [
      "Basket size during days of the month\n"
     ]
    },
    {
     "data": {
      "text/plain": [
       "Day\n",
       "20    58963\n",
       "11    56919\n",
       "4     56669\n",
       "28    53865\n",
       "22    50334\n",
       "5     49396\n",
       "24    44254\n",
       "21    43594\n",
       "25    43232\n",
       "15    41671\n",
       "19    40631\n",
       "1     39479\n",
       "12    39047\n",
       "26    38293\n",
       "18    38290\n",
       "13    37621\n",
       "7     36847\n",
       "29    36599\n",
       "8     36409\n",
       "17    34619\n",
       "14    32298\n",
       "27    31363\n",
       "2     28776\n",
       "23    28750\n",
       "30    28203\n",
       "6     27919\n",
       "16    26295\n",
       "9     21734\n",
       "31    20846\n",
       "3     18717\n",
       "10    17101\n",
       "Name: Quantity, dtype: int64"
      ]
     },
     "execution_count": 19,
     "metadata": {},
     "output_type": "execute_result"
    }
   ],
   "source": [
    "print('Basket size during days of the month')\n",
    "df.groupby(['Day'])['Quantity'].sum().sort_values(ascending=False)"
   ]
  },
  {
   "cell_type": "markdown",
   "id": "df9df5ed",
   "metadata": {},
   "source": [
    "### Identify different baskets of goods sold, which are the top 10 baskets?\n"
   ]
  },
  {
   "cell_type": "code",
   "execution_count": 21,
   "id": "5650eb25",
   "metadata": {},
   "outputs": [
    {
     "name": "stdout",
     "output_type": "stream",
     "text": [
      "      BillNo  UniqueItems\n",
      "188   559055          487\n",
      "187   559052          463\n",
      "893   560772          449\n",
      "779   560434          443\n",
      "972   560926          438\n",
      "499   559816          433\n",
      "3728  567656          419\n",
      "3560  567183          386\n",
      "662   560225          379\n",
      "456   559693          358\n"
     ]
    }
   ],
   "source": [
    "basket_counts = df.groupby('BillNo')['Itemname'].nunique().reset_index(name='UniqueItems')\n",
    "top_10_baskets = basket_counts[basket_counts['UniqueItems'] > 1].sort_values(by='UniqueItems', ascending=False).head(10)\n",
    "print(top_10_baskets)"
   ]
  },
  {
   "cell_type": "code",
   "execution_count": 22,
   "id": "6dd91039",
   "metadata": {},
   "outputs": [
    {
     "data": {
      "text/html": [
       "<div>\n",
       "<style scoped>\n",
       "    .dataframe tbody tr th:only-of-type {\n",
       "        vertical-align: middle;\n",
       "    }\n",
       "\n",
       "    .dataframe tbody tr th {\n",
       "        vertical-align: top;\n",
       "    }\n",
       "\n",
       "    .dataframe thead th {\n",
       "        text-align: right;\n",
       "    }\n",
       "</style>\n",
       "<table border=\"1\" class=\"dataframe\">\n",
       "  <thead>\n",
       "    <tr style=\"text-align: right;\">\n",
       "      <th></th>\n",
       "      <th>ItemNames</th>\n",
       "      <th>Count</th>\n",
       "    </tr>\n",
       "  </thead>\n",
       "  <tbody>\n",
       "    <tr>\n",
       "      <th>0</th>\n",
       "      <td>UNKNOWN ITEM</td>\n",
       "      <td>135</td>\n",
       "    </tr>\n",
       "    <tr>\n",
       "      <th>1</th>\n",
       "      <td>Manual</td>\n",
       "      <td>25</td>\n",
       "    </tr>\n",
       "    <tr>\n",
       "      <th>2</th>\n",
       "      <td>POSTAGE</td>\n",
       "      <td>21</td>\n",
       "    </tr>\n",
       "    <tr>\n",
       "      <th>3</th>\n",
       "      <td>found</td>\n",
       "      <td>8</td>\n",
       "    </tr>\n",
       "    <tr>\n",
       "      <th>4</th>\n",
       "      <td>WHITE HANGING HEART T-LIGHT HOLDER</td>\n",
       "      <td>6</td>\n",
       "    </tr>\n",
       "    <tr>\n",
       "      <th>5</th>\n",
       "      <td>PLEASE ONE PERSON METAL SIGN</td>\n",
       "      <td>6</td>\n",
       "    </tr>\n",
       "    <tr>\n",
       "      <th>6</th>\n",
       "      <td>DOORMAT KEEP CALM AND COME IN</td>\n",
       "      <td>5</td>\n",
       "    </tr>\n",
       "    <tr>\n",
       "      <th>7</th>\n",
       "      <td>PANTRY MAGNETIC  SHOPPING LIST</td>\n",
       "      <td>5</td>\n",
       "    </tr>\n",
       "    <tr>\n",
       "      <th>8</th>\n",
       "      <td>CHILLI LIGHTS</td>\n",
       "      <td>4</td>\n",
       "    </tr>\n",
       "    <tr>\n",
       "      <th>9</th>\n",
       "      <td>POPCORN HOLDER</td>\n",
       "      <td>4</td>\n",
       "    </tr>\n",
       "  </tbody>\n",
       "</table>\n",
       "</div>"
      ],
      "text/plain": [
       "                            ItemNames  Count\n",
       "0                        UNKNOWN ITEM    135\n",
       "1                              Manual     25\n",
       "2                             POSTAGE     21\n",
       "3                               found      8\n",
       "4  WHITE HANGING HEART T-LIGHT HOLDER      6\n",
       "5        PLEASE ONE PERSON METAL SIGN      6\n",
       "6       DOORMAT KEEP CALM AND COME IN      5\n",
       "7      PANTRY MAGNETIC  SHOPPING LIST      5\n",
       "8                       CHILLI LIGHTS      4\n",
       "9                      POPCORN HOLDER      4"
      ]
     },
     "execution_count": 22,
     "metadata": {},
     "output_type": "execute_result"
    }
   ],
   "source": [
    "df12 = df[['BillNo', 'Itemname']]\n",
    "baskets = df12.groupby('BillNo')['Itemname'].apply(set)\n",
    "basket_counts = baskets.value_counts().reset_index()\n",
    "basket_counts.columns = ['Basket', 'Count']\n",
    "top_10_baskets = basket_counts.head(10)\n",
    "def get_item_names(basket):\n",
    "    return ', '.join(sorted(list(basket)))\n",
    "top_10_baskets['ItemNames'] = top_10_baskets['Basket'].apply(get_item_names)\n",
    "result_df = top_10_baskets[['ItemNames', 'Count']].reset_index(drop=True)\n",
    "result_df"
   ]
  },
  {
   "cell_type": "markdown",
   "id": "53fc2c15",
   "metadata": {},
   "source": [
    "### Are there any loyal customers? Identify customers who make frequent purchases."
   ]
  },
  {
   "cell_type": "code",
   "execution_count": 23,
   "id": "ac5c16ed",
   "metadata": {},
   "outputs": [
    {
     "name": "stdout",
     "output_type": "stream",
     "text": [
      "Displaying the Top 5 customers\n"
     ]
    },
    {
     "data": {
      "text/plain": [
       "CustomerID\n",
       "17450    35468\n",
       "12931    18114\n",
       "18102    17333\n",
       "17511    16310\n",
       "13694    13646\n",
       "Name: Quantity, dtype: int64"
      ]
     },
     "execution_count": 23,
     "metadata": {},
     "output_type": "execute_result"
    }
   ],
   "source": [
    "print('Displaying the Top 5 customers')\n",
    "df4 = df[df['CustomerID']!=99999.0]\n",
    "df4.groupby('CustomerID')['Quantity'].sum().sort_values(ascending=False).head(5)"
   ]
  },
  {
   "cell_type": "markdown",
   "id": "a2c9cd60",
   "metadata": {},
   "source": [
    "### Can you segment customers based on their total spend?"
   ]
  },
  {
   "cell_type": "code",
   "execution_count": 24,
   "id": "03ffec99",
   "metadata": {},
   "outputs": [
    {
     "name": "stdout",
     "output_type": "stream",
     "text": [
      "Printing the category and number of customers in each category based on thier spending : \n"
     ]
    },
    {
     "data": {
      "text/plain": [
       "Medium       986\n",
       "High         446\n",
       "Very high    405\n",
       "Low          102\n",
       "Name: Spending_category, dtype: int64"
      ]
     },
     "execution_count": 24,
     "metadata": {},
     "output_type": "execute_result"
    }
   ],
   "source": [
    "df['Total'] = df['Quantity']*df['Price']\n",
    "df_cust = df.groupby('CustomerID')['Total'].sum().reset_index()\n",
    "df_filtered = df_cust[df_cust['CustomerID'] != 99999.0]\n",
    "df_filtered = df_filtered.sort_values('Total').reset_index()\n",
    "df_filtered['Spending_category'] = ''\n",
    "for i in range(len(df_filtered)):\n",
    "    if df_filtered['Total'][i] < 100:\n",
    "        df_filtered['Spending_category'][i] = 'Low'\n",
    "    elif (df_filtered['Total'][i] >= 100) & (df_filtered['Total'][i] < 500):\n",
    "        df_filtered['Spending_category'][i] = 'Medium'\n",
    "    elif (df_filtered['Total'][i] >= 500) & (df_filtered['Total'][i] < 1000):\n",
    "        df_filtered['Spending_category'][i] = 'High'\n",
    "    else:\n",
    "        df_filtered['Spending_category'][i] = 'Very high'\n",
    "print('Printing the category and number of customers in each category based on thier spending : ')\n",
    "pd.value_counts(df_filtered['Spending_category'])"
   ]
  },
  {
   "cell_type": "markdown",
   "id": "6e03e9c8",
   "metadata": {},
   "source": [
    "### How often do customers return to make another purchase?"
   ]
  },
  {
   "cell_type": "code",
   "execution_count": 25,
   "id": "3b02c1f8",
   "metadata": {},
   "outputs": [
    {
     "name": "stdout",
     "output_type": "stream",
     "text": [
      "On an average the customers return every : 9 days 09:01:30.380139643 days for a fresh purchase\n"
     ]
    }
   ],
   "source": [
    "grouped = df.groupby('CustomerID')\n",
    "df2 = pd.DataFrame({'CustomerID': grouped.groups.keys(), 'Data': grouped['Date'].apply(list)})\n",
    "df2 = df2.reset_index(drop=True)\n",
    "def remove_duplicates(dates_list):\n",
    "    return list(set(dates_list))\n",
    "df2['Data'] = df2['Data'].apply(remove_duplicates)\n",
    "df2 = df2.explode('Data', ignore_index=True)\n",
    "df2['Data'] = pd.to_datetime(df2['Data'])\n",
    "df2.reset_index(drop=True, inplace=True)\n",
    "df2 = df2[df2['CustomerID']!= 99999.0]\n",
    "df2 = df2.sort_values(['CustomerID','Data'])\n",
    "df2 = df2.reset_index(drop=True)\n",
    "df2['Time_Diff'] = df2.groupby('CustomerID')['Data'].diff()\n",
    "df2['Time_Diff'].fillna(pd.Timedelta(seconds=0), inplace=True)\n",
    "df2.reset_index(drop=True, inplace=True)\n",
    "print(f'On an average the customers return every : {df2[\"Time_Diff\"].mean()} days for a fresh purchase')\n"
   ]
  }
 ],
 "metadata": {
  "kernelspec": {
   "display_name": "Python 3",
   "language": "python",
   "name": "python3"
  },
  "language_info": {
   "codemirror_mode": {
    "name": "ipython",
    "version": 3
   },
   "file_extension": ".py",
   "mimetype": "text/x-python",
   "name": "python",
   "nbconvert_exporter": "python",
   "pygments_lexer": "ipython3",
   "version": "3.7.9"
  }
 },
 "nbformat": 4,
 "nbformat_minor": 5
}
